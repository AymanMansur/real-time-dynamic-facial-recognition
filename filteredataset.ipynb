{
 "cells": [
  {
   "cell_type": "code",
   "execution_count": 1,
   "metadata": {},
   "outputs": [
    {
     "name": "stdout",
     "output_type": "stream",
     "text": [
      "Dataset filtering complete.\n"
     ]
    }
   ],
   "source": [
    "import os\n",
    "import shutil\n",
    "\n",
    "# Define your dataset base path\n",
    "# Replace with your dataset path\n",
    "base_dataset_dir = r'D:\\thesis\\FINAL ALL DATASET'\n",
    "# Replace with the path for the filtered dataset\n",
    "filtered_dataset_dir = r'D:\\thesis\\filtered dataset'\n",
    "\n",
    "# Degrees to exclude\n",
    "excluded_degrees = ['+70', '-70', '+80', '-80', '+90', '-90']\n",
    "\n",
    "# Create the filtered dataset directory if it doesn't exist\n",
    "if not os.path.exists(filtered_dataset_dir):\n",
    "    os.makedirs(filtered_dataset_dir)\n",
    "\n",
    "# Iterate through each person's folder\n",
    "for folder_number in range(1, 335):  # Assuming folders are numbered from 1 to 334\n",
    "    person_path = os.path.join(base_dataset_dir, str(\n",
    "        folder_number))  # Folder name as number\n",
    "    filtered_person_path = os.path.join(\n",
    "        filtered_dataset_dir, str(folder_number))\n",
    "\n",
    "    if os.path.isdir(person_path):\n",
    "        # Create the corresponding subfolder in the filtered dataset directory\n",
    "        if not os.path.exists(filtered_person_path):\n",
    "            os.makedirs(filtered_person_path)\n",
    "\n",
    "        for image_file in os.listdir(person_path):\n",
    "            # Check if the file should be included\n",
    "            if not any(excluded_degree in image_file for excluded_degree in excluded_degrees):\n",
    "                source_file_path = os.path.join(person_path, image_file)\n",
    "                destination_file_path = os.path.join(\n",
    "                    filtered_person_path, image_file)\n",
    "\n",
    "                # Copy the file to the filtered dataset directory\n",
    "                shutil.copy(source_file_path, destination_file_path)\n",
    "\n",
    "print(\"Dataset filtering complete.\")"
   ]
  }
 ],
 "metadata": {
  "kernelspec": {
   "display_name": "Python 3",
   "language": "python",
   "name": "python3"
  },
  "language_info": {
   "codemirror_mode": {
    "name": "ipython",
    "version": 3
   },
   "file_extension": ".py",
   "mimetype": "text/x-python",
   "name": "python",
   "nbconvert_exporter": "python",
   "pygments_lexer": "ipython3",
   "version": "3.10.0"
  }
 },
 "nbformat": 4,
 "nbformat_minor": 2
}
